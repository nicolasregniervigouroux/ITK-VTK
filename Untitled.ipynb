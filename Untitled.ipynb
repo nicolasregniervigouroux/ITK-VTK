{
 "cells": [
  {
   "cell_type": "code",
   "execution_count": 5,
   "id": "9078e0c3-95d8-4420-ba39-998ba955483e",
   "metadata": {},
   "outputs": [],
   "source": [
    "import sys\n",
    "import itk\n",
    "import os\n",
    "import matplotlib\n",
    "import matplotlib.pyplot as plt"
   ]
  },
  {
   "cell_type": "code",
   "execution_count": 3,
   "id": "bd331e23-d697-414d-9de0-341486725ca4",
   "metadata": {},
   "outputs": [],
   "source": [
    "def segment_tumor(input_filepath, output_filepath, seed, lower, upper, image_nb=50):\n",
    "    # Read the input image\n",
    "    input_image = itk.imread(input_filepath, pixel_type=itk.F)\n",
    "\n",
    "    # Apply anisotropic diffusion filter for smoothing\n",
    "    #smoother = itk.GradientAnisotropicDiffusionImageFilter.New(\n",
    "    #    Input=input_image, NumberOfIterations=20, TimeStep=0.04, ConductanceParameter=3)\n",
    "    #smoother.Update()\n",
    "\n",
    "    smoothing = itk.SmoothingRecursiveGaussianImageFilter.New(Input=input_image, Sigma=1.5)\n",
    "    smoothing.Update()\n",
    "    smoother = smoothing.GetOutput()\n",
    "\n",
    "    # Display the smoothed image to choose a seed point\n",
    "    plt.ion()\n",
    "    # Fonction de rappel pour les événements de clic de souris\n",
    "    plt.imshow(itk.GetArrayViewFromImage(smoother)[:, image_nb, :], cmap=\"gray\")\n",
    "    plt.title(\"Select seed point and press a key\")\n",
    "    plt.waitforbuttonpress()\n",
    "\n",
    "    # Instantiate the ConnectedThresholdImageFilter\n",
    "    connected_threshold = itk.ConnectedThresholdImageFilter.New(smoother)\n",
    "    connected_threshold.SetReplaceValue(255)\n",
    "    connected_threshold.SetLower(lower)\n",
    "    connected_threshold.SetUpper(upper)\n",
    "\n",
    "    # Set seed point for segmentation\n",
    "    new_seed = seed\n",
    "    connected_threshold.SetSeed(new_seed)\n",
    "    connected_threshold.Update()\n",
    "    # Rescale the intensity of the segmented output\n",
    "    in_type = itk.output(connected_threshold)\n",
    "    dimension = input_image.GetImageDimension()\n",
    "    output_type = itk.Image[itk.UC, dimension]\n",
    "    rescaler = itk.RescaleIntensityImageFilter[in_type, output_type].New(connected_threshold)\n",
    "    #itk.imwrite(rescaler, output_filepath)\n",
    "\n",
    "    # Display the segmented output\n",
    "    plt.imshow(itk.GetArrayViewFromImage(connected_threshold.GetOutput())[:, image_nb, :], cmap=\"gray\")\n",
    "    plt.title(\"Segmented tumor\")\n",
    "    plt.waitforbuttonpress()"
   ]
  },
  {
   "cell_type": "code",
   "execution_count": 37,
   "id": "0d381c9c-0cad-4c69-9561-c2264c349c5e",
   "metadata": {},
   "outputs": [],
   "source": [
    "matplotlib.use('TkAgg')\n",
    "# Read the input image\n",
    "input_image = itk.imread(\"Data/case6_gre1.nrrd\", pixel_type=itk.F)\n",
    "\n",
    "gradient_filter = itk.GradientMagnitudeRecursiveGaussianImageFilter.New(Input=input_image, Sigma=1)\n",
    "gradient_filter.Update()\n",
    "gradient_image = gradient_filter.GetOutput()\n",
    "\n",
    "# Display the smoothed image to choose a seed point\n",
    "#plt.ion()\n",
    "plt.imshow(itk.GetArrayViewFromImage(gradient_image)[:, 50, :], cmap=\"gray\")\n",
    "plt.title(\"Select seed point and press a key\")\n",
    "plt.waitforbuttonpress()\n",
    "    \n",
    "    "
   ]
  },
  {
   "cell_type": "code",
   "execution_count": 24,
   "id": "e20aace9-4910-42ec-8f90-1406793752fc",
   "metadata": {},
   "outputs": [],
   "source": [
    "# Appliquer Watershed\n",
    "\n",
    "watershed_filter = itk.WatershedImageFilter.New(Input=gradient_image)\n",
    "watershed_filter.SetLevel(0.2)  # Ajuster le niveau de segmentation\n",
    "watershed_filter.SetThreshold(0.003)  # Ajuster le seuil\n",
    "watershed_filter.Update()\n"
   ]
  },
  {
   "cell_type": "code",
   "execution_count": 25,
   "id": "b84bd095-6380-4256-b632-e7859d45b3e1",
   "metadata": {},
   "outputs": [],
   "source": [
    "plt.imshow(itk.GetArrayViewFromImage(watershed_filter.GetOutput())[:, 50, :], cmap=\"gray\")\n",
    "plt.title(\"Segmented tumor\")\n",
    "plt.waitforbuttonpress()"
   ]
  },
  {
   "cell_type": "code",
   "execution_count": 4,
   "id": "7426cd7a-7da3-4d7d-8f48-b9458fe43909",
   "metadata": {},
   "outputs": [
    {
     "ename": "AttributeError",
     "evalue": "module 'matplotlib.pyplot' has no attribute 'canvas'",
     "output_type": "error",
     "traceback": [
      "\u001b[1;31m---------------------------------------------------------------------------\u001b[0m",
      "\u001b[1;31mAttributeError\u001b[0m                            Traceback (most recent call last)",
      "Cell \u001b[1;32mIn[4], line 15\u001b[0m\n\u001b[0;32m     12\u001b[0m lower, upper \u001b[38;5;241m=\u001b[39m \u001b[38;5;241m60\u001b[39m, \u001b[38;5;241m130\u001b[39m\n\u001b[0;32m     14\u001b[0m \u001b[38;5;66;03m# Segment tumors in both scans\u001b[39;00m\n\u001b[1;32m---> 15\u001b[0m \u001b[43msegment_tumor\u001b[49m\u001b[43m(\u001b[49m\u001b[43mscan1_filepath\u001b[49m\u001b[43m,\u001b[49m\u001b[43m \u001b[49m\u001b[43moutput1_filepath\u001b[49m\u001b[43m,\u001b[49m\u001b[43m \u001b[49m\u001b[43mseed1\u001b[49m\u001b[43m,\u001b[49m\u001b[43m \u001b[49m\u001b[43mlower\u001b[49m\u001b[43m,\u001b[49m\u001b[43m \u001b[49m\u001b[43mupper\u001b[49m\u001b[43m,\u001b[49m\u001b[38;5;241;43m50\u001b[39;49m\u001b[43m)\u001b[49m\n\u001b[0;32m     16\u001b[0m \u001b[38;5;66;03m#segment_tumor2(scan1_filepath, output2_filepath)\u001b[39;00m\n",
      "Cell \u001b[1;32mIn[3], line 22\u001b[0m, in \u001b[0;36msegment_tumor\u001b[1;34m(input_filepath, output_filepath, seed, lower, upper, image_nb)\u001b[0m\n\u001b[0;32m     20\u001b[0m         \u001b[38;5;28mprint\u001b[39m(\u001b[38;5;124mf\u001b[39m\u001b[38;5;124m'\u001b[39m\u001b[38;5;124mVous avez cliqué aux coordonnées x=\u001b[39m\u001b[38;5;132;01m{\u001b[39;00mx\u001b[38;5;132;01m}\u001b[39;00m\u001b[38;5;124m, y=\u001b[39m\u001b[38;5;132;01m{\u001b[39;00my\u001b[38;5;132;01m}\u001b[39;00m\u001b[38;5;124m'\u001b[39m)\n\u001b[0;32m     21\u001b[0m plt\u001b[38;5;241m.\u001b[39mimshow(itk\u001b[38;5;241m.\u001b[39mGetArrayViewFromImage(smoother)[:, image_nb, :], cmap\u001b[38;5;241m=\u001b[39m\u001b[38;5;124m\"\u001b[39m\u001b[38;5;124mgray\u001b[39m\u001b[38;5;124m\"\u001b[39m)\n\u001b[1;32m---> 22\u001b[0m cid \u001b[38;5;241m=\u001b[39m \u001b[43mplt\u001b[49m\u001b[38;5;241;43m.\u001b[39;49m\u001b[43mcanvas\u001b[49m\u001b[38;5;241m.\u001b[39mmpl_connect(\u001b[38;5;124m'\u001b[39m\u001b[38;5;124mbutton_press_event\u001b[39m\u001b[38;5;124m'\u001b[39m, on_click)\n\u001b[0;32m     23\u001b[0m plt\u001b[38;5;241m.\u001b[39mtitle(\u001b[38;5;124m\"\u001b[39m\u001b[38;5;124mSelect seed point and press a key\u001b[39m\u001b[38;5;124m\"\u001b[39m)\n\u001b[0;32m     24\u001b[0m plt\u001b[38;5;241m.\u001b[39mwaitforbuttonpress()\n",
      "\u001b[1;31mAttributeError\u001b[0m: module 'matplotlib.pyplot' has no attribute 'canvas'"
     ]
    }
   ],
   "source": [
    "matplotlib.use('TkAgg')\n",
    "\n",
    "# File paths\n",
    "scan1_filepath = \"Data/case6_gre1.nrrd\"\n",
    "scan2_filepath = \"Data/case6_gre2.nrrd\"\n",
    "output1_filepath = 'case6_gre1_segmented.nrrd'\n",
    "output2_filepath = 'case6_gre2_segmented.nrrd'\n",
    "\n",
    "# Segmentation parameters (example values)\n",
    "seed1 = (100, 50, 60)  # Adjust these coordinates for the first scan\n",
    "seed2 = (110, 70, 60)  # Adjust these coordinates for the second scan\n",
    "lower, upper = 60, 130\n",
    "\n",
    "# Segment tumors in both scans\n",
    "segment_tumor(scan1_filepath, output1_filepath, seed1, lower, upper,50)\n",
    "#segment_tumor2(scan1_filepath, output2_filepath)"
   ]
  },
  {
   "cell_type": "code",
   "execution_count": null,
   "id": "b7ef99ff-2d0c-4349-8156-335f267aa85b",
   "metadata": {},
   "outputs": [],
   "source": []
  }
 ],
 "metadata": {
  "kernelspec": {
   "display_name": "Python 3 (ipykernel)",
   "language": "python",
   "name": "python3"
  },
  "language_info": {
   "codemirror_mode": {
    "name": "ipython",
    "version": 3
   },
   "file_extension": ".py",
   "mimetype": "text/x-python",
   "name": "python",
   "nbconvert_exporter": "python",
   "pygments_lexer": "ipython3",
   "version": "3.11.4"
  }
 },
 "nbformat": 4,
 "nbformat_minor": 5
}
