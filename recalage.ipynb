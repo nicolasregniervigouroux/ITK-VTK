{
 "cells": [
  {
   "cell_type": "code",
   "execution_count": 1,
   "id": "8027132f-3e22-4a68-95c0-196c5cea5217",
   "metadata": {},
   "outputs": [],
   "source": [
    "import itk\n",
    "import vtk\n",
    "import numpy as np\n",
    "import matplotlib\n",
    "import matplotlib.pyplot as plt\n",
    "PixelType = itk.F"
   ]
  },
  {
   "cell_type": "code",
   "execution_count": 2,
   "id": "2f9a3c6e-f135-4bca-acaf-a424e46cd3ef",
   "metadata": {},
   "outputs": [],
   "source": [
    "fixed = itk.imread(\"Data/case6_gre1.nrrd\",PixelType)"
   ]
  },
  {
   "cell_type": "code",
   "execution_count": 3,
   "id": "af1f1815-dc03-450a-9171-ed878aea5b75",
   "metadata": {},
   "outputs": [],
   "source": [
    "moving= itk.imread(\"Data/case6_gre2.nrrd\",PixelType)"
   ]
  },
  {
   "cell_type": "code",
   "execution_count": 4,
   "id": "7d5026a5-d765-4ab1-b1fe-82964ce02f97",
   "metadata": {},
   "outputs": [
    {
     "data": {
      "text/plain": [
       "itk.itkImagePython.itkImageF3"
      ]
     },
     "execution_count": 4,
     "metadata": {},
     "output_type": "execute_result"
    }
   ],
   "source": [
    "dimension = fixed.GetImageDimension()\n",
    "FixedImageType = type(fixed)\n",
    "MovingImageType = type(moving)\n",
    "MovingImageType"
   ]
  },
  {
   "cell_type": "markdown",
   "id": "06e24abf-08b4-4f7d-aeca-5fdd0ca2423b",
   "metadata": {},
   "source": [
    "## Recalage avec translationTransform ##"
   ]
  },
  {
   "cell_type": "code",
   "execution_count": 230,
   "id": "b09a58dc-cb1f-4080-9320-635172af9bd8",
   "metadata": {},
   "outputs": [],
   "source": [
    "#TransformType = itk.Rigid3DTransform[itk.D]\n",
    "TransformType = itk.TranslationTransform[itk.D,dimension]\n",
    "initial_transform = TransformType.New()"
   ]
  },
  {
   "cell_type": "code",
   "execution_count": 231,
   "id": "739ee584-b63f-4eff-a238-d2b300928f5f",
   "metadata": {},
   "outputs": [],
   "source": [
    "optimizer = itk.RegularStepGradientDescentOptimizerv4.New()\n",
    "optimizer.SetLearningRate(4.0)\n",
    "optimizer.SetMinimumStepLength(0.001)\n",
    "optimizer.SetNumberOfIterations(20)"
   ]
  },
  {
   "cell_type": "code",
   "execution_count": 232,
   "id": "68b6f8f6-19b0-415c-b2be-26cfef654b02",
   "metadata": {},
   "outputs": [],
   "source": [
    "metric = itk.MeanSquaresImageToImageMetricv4[FixedImageType, MovingImageType].New()"
   ]
  },
  {
   "cell_type": "code",
   "execution_count": 233,
   "id": "b70d5ff4-b842-4504-9524-99db5de84146",
   "metadata": {},
   "outputs": [],
   "source": [
    "fixed_interpolation = itk.LinearInterpolateImageFunction[FixedImageType, itk.D].New()\n",
    "metric.SetFixedInterpolator(fixed_interpolation)"
   ]
  },
  {
   "cell_type": "code",
   "execution_count": 234,
   "id": "dd765bae-dfe0-4608-9ced-be8356628b1e",
   "metadata": {},
   "outputs": [],
   "source": [
    "registration = itk.ImageRegistrationMethodv4[FixedImageType, MovingImageType].New()\n",
    "registration.SetMetric(metric)\n",
    "registration.SetOptimizer(optimizer)\n",
    "registration.SetFixedImage(fixed)\n",
    "registration.SetMovingImage(moving)\n",
    "registration.SetInitialTransform(initial_transform)"
   ]
  },
  {
   "cell_type": "code",
   "execution_count": 235,
   "id": "ed96db6f-a385-4ba8-8d14-91b5da267b83",
   "metadata": {},
   "outputs": [],
   "source": [
    "moving_initial_transform = TransformType.New()\n",
    "initial_parameters = moving_initial_transform.GetParameters()\n",
    "initial_parameters[0] = 0\n",
    "initial_parameters[1] = 0\n",
    "initial_parameters[2] = 0\n",
    "moving_initial_transform.SetParameters(initial_parameters)\n",
    "registration.SetMovingInitialTransform(moving_initial_transform)"
   ]
  },
  {
   "cell_type": "code",
   "execution_count": 236,
   "id": "922e7ee6-d2b4-4f6f-9f3e-a7c419d9024b",
   "metadata": {},
   "outputs": [],
   "source": [
    "identity_transform = TransformType.New()\n",
    "identity_transform.SetIdentity()\n",
    "registration.SetFixedInitialTransform(identity_transform)\n",
    "registration.SetNumberOfLevels(1)"
   ]
  },
  {
   "cell_type": "code",
   "execution_count": 237,
   "id": "98fc52ab-bbcb-4f4e-be31-d45fba3a5c1f",
   "metadata": {},
   "outputs": [],
   "source": [
    "registration.Update()"
   ]
  },
  {
   "cell_type": "code",
   "execution_count": 238,
   "id": "20ac20f5-81be-4479-848d-2b82c6c985ea",
   "metadata": {},
   "outputs": [
    {
     "name": "stdout",
     "output_type": "stream",
     "text": [
      "Translation X: -0.6951590472781529\n",
      "Translation Y: -3.4733086775013957\n",
      "Translation Z: -59.539168082382226\n"
     ]
    },
    {
     "data": {
      "text/plain": [
       "5906.019774094595"
      ]
     },
     "execution_count": 238,
     "metadata": {},
     "output_type": "execute_result"
    }
   ],
   "source": [
    "transform = registration.GetTransform()\n",
    "final_parameters = transform.GetParameters()\n",
    "print(\"Translation X: \" +str(final_parameters.GetElement(0)))\n",
    "print(\"Translation Y: \" +str(final_parameters.GetElement(1)))\n",
    "print(\"Translation Z: \" +str(final_parameters.GetElement(2)))\n",
    "optimizer.GetValue()"
   ]
  },
  {
   "cell_type": "code",
   "execution_count": 239,
   "id": "8bc4d717-2c31-4248-91aa-366d786ab764",
   "metadata": {},
   "outputs": [],
   "source": [
    "CompositeTransformType = itk.CompositeTransform[itk.D, dimension]\n",
    "output_composite_transform = CompositeTransformType.New()\n",
    "output_composite_transform.AddTransform(moving_initial_transform)\n",
    "output_composite_transform.AddTransform(registration.GetModifiableTransform())\n",
    "\n",
    "resampler = itk.ResampleImageFilter.New(Input=moving, Transform=transform, UseReferenceImage=True,\n",
    "                                            ReferenceImage=fixed)\n",
    "resampler.SetDefaultPixelValue(100)\n",
    "resampler.Update()\n",
    "resampling1 = resampler.GetOutput()"
   ]
  },
  {
   "cell_type": "markdown",
   "id": "1484ce66-fd8f-445b-a5d5-f37ec76439c0",
   "metadata": {},
   "source": [
    "## Recalage avec BSplineTransform ##"
   ]
  },
  {
   "cell_type": "code",
   "execution_count": 119,
   "id": "3a184e51-d483-40b5-a0b5-c192855bd14e",
   "metadata": {},
   "outputs": [],
   "source": [
    "TransformType = itk.BSplineTransform[itk.D,dimension,dimension]\n",
    "initial_transform = TransformType.New()"
   ]
  },
  {
   "cell_type": "code",
   "execution_count": 120,
   "id": "bd481526-7118-4b35-b302-af375e9d39c1",
   "metadata": {},
   "outputs": [],
   "source": [
    "optimizer = itk.LBFGSOptimizerv4.New()\n",
    "optimizer.SetGradientConvergenceTolerance(0.05);\n",
    "optimizer.SetLineSearchAccuracy(0.9);\n",
    "optimizer.SetDefaultStepLength(.5);\n",
    "optimizer.TraceOn();\n",
    "optimizer.SetMaximumNumberOfFunctionEvaluations(1000);"
   ]
  },
  {
   "cell_type": "code",
   "execution_count": 121,
   "id": "895cbcff-3e49-48c3-9952-b241c8e5b0ae",
   "metadata": {},
   "outputs": [],
   "source": [
    "scales = itk.OptimizerParameters[itk.D](initial_transform.GetNumberOfParameters())\n",
    "scales.Fill(1.0)\n",
    "optimizer.SetScales(scales)"
   ]
  },
  {
   "cell_type": "code",
   "execution_count": 122,
   "id": "26415d3f-2fc9-4367-965e-e8a0ad0ea7a7",
   "metadata": {},
   "outputs": [],
   "source": [
    "metric = itk.MeanSquaresImageToImageMetricv4[FixedImageType, MovingImageType].New()"
   ]
  },
  {
   "cell_type": "code",
   "execution_count": 123,
   "id": "cadb7531-45b4-4411-8a18-e096d3a9eede",
   "metadata": {},
   "outputs": [],
   "source": [
    "fixed_interpolation = itk.LinearInterpolateImageFunction[FixedImageType, itk.D].New()\n",
    "metric.SetFixedInterpolator(fixed_interpolation)"
   ]
  },
  {
   "cell_type": "code",
   "execution_count": 124,
   "id": "83c8a78d-eab7-42e4-bf94-c4a866491a67",
   "metadata": {},
   "outputs": [],
   "source": [
    "registration = itk.ImageRegistrationMethodv4[FixedImageType, MovingImageType].New()\n",
    "registration.SetMetric(metric)\n",
    "registration.SetOptimizer(optimizer)\n",
    "registration.SetFixedImage(fixed)\n",
    "registration.SetMovingImage(moving)\n",
    "registration.SetInitialTransform(initial_transform)"
   ]
  },
  {
   "cell_type": "code",
   "execution_count": 125,
   "id": "355108c9-720d-43c4-8b57-b02530d185cd",
   "metadata": {},
   "outputs": [],
   "source": [
    "registration.Update()"
   ]
  },
  {
   "cell_type": "code",
   "execution_count": 126,
   "id": "712c6a25-fa3f-4d3b-abe0-6eca2dffc2e1",
   "metadata": {},
   "outputs": [
    {
     "name": "stdout",
     "output_type": "stream",
     "text": [
      "B-Spline coefficients:  <itk.itkOptimizerParametersPython.itkOptimizerParametersD; proxy of <Swig Object of type 'itkOptimizerParametersD *' at 0x00000215041C4C00> >\n",
      "Number of coefficients:  192\n"
     ]
    },
    {
     "data": {
      "text/plain": [
       "55130.199734167254"
      ]
     },
     "execution_count": 126,
     "metadata": {},
     "output_type": "execute_result"
    }
   ],
   "source": [
    "transform = registration.GetTransform()\n",
    "coefficients = transform.GetParameters()\n",
    "print(\"B-Spline coefficients: \", coefficients)\n",
    "print(\"Number of coefficients: \", len(coefficients))\n",
    "optimizer.GetValue()"
   ]
  },
  {
   "cell_type": "code",
   "execution_count": 42,
   "id": "180e4e4f-6537-4a79-a760-fd237b7801d0",
   "metadata": {},
   "outputs": [],
   "source": [
    "resampler = itk.ResampleImageFilter.New(Input=moving, Transform=transform, UseReferenceImage=True,\n",
    "                                            ReferenceImage=fixed)\n",
    "resampler.SetDefaultPixelValue(100)\n",
    "resampler.Update()\n",
    "resampling = resampler.GetOutput()"
   ]
  },
  {
   "cell_type": "code",
   "execution_count": 349,
   "id": "6ab74b03-2ba8-49b4-b627-b54811ac5103",
   "metadata": {},
   "outputs": [
    {
     "data": {
      "text/plain": [
       "itk.itkImagePython.itkImageF3"
      ]
     },
     "execution_count": 349,
     "metadata": {},
     "output_type": "execute_result"
    }
   ],
   "source": [
    "subtraction2 = itk.SubtractImageFilter(Input1=fixed, Input2=resampler)\n",
    "type(subtraction2)"
   ]
  },
  {
   "cell_type": "markdown",
   "id": "afe1dd8b-cc12-44c4-aa34-96ce4eb58f2c",
   "metadata": {},
   "source": [
    "## Recalage Euler3DTransform ##"
   ]
  },
  {
   "cell_type": "code",
   "execution_count": 324,
   "id": "fff479b3-b2cd-436b-ad28-116204eec5b6",
   "metadata": {},
   "outputs": [],
   "source": [
    "TransformType = itk.Euler3DTransform[itk.D]\n",
    "initial_transform = TransformType.New()"
   ]
  },
  {
   "cell_type": "code",
   "execution_count": 325,
   "id": "fac31a7a-6e3c-4235-9811-1d707e2e29a2",
   "metadata": {},
   "outputs": [],
   "source": [
    "optimizer = itk.RegularStepGradientDescentOptimizerv4.New()\n",
    "optimizer.SetLearningRate(4.0)\n",
    "optimizer.SetMinimumStepLength(0.001)\n",
    "optimizer.SetNumberOfIterations(20)"
   ]
  },
  {
   "cell_type": "code",
   "execution_count": 326,
   "id": "65b27695-1017-4a38-ba9c-4e07f2e6749e",
   "metadata": {},
   "outputs": [],
   "source": [
    "metric = itk.MeanSquaresImageToImageMetricv4[FixedImageType, MovingImageType].New()"
   ]
  },
  {
   "cell_type": "code",
   "execution_count": 327,
   "id": "01d02d97-5fec-487d-a4ec-dc79d52bfffa",
   "metadata": {},
   "outputs": [],
   "source": [
    "fixed_interpolation = itk.LinearInterpolateImageFunction[FixedImageType, itk.D].New()\n",
    "metric.SetFixedInterpolator(fixed_interpolation)"
   ]
  },
  {
   "cell_type": "code",
   "execution_count": 328,
   "id": "7cc9497c-9cb8-4e9e-8a2a-31fe61b070fc",
   "metadata": {},
   "outputs": [],
   "source": [
    "registration = itk.ImageRegistrationMethodv4[FixedImageType, MovingImageType].New()\n",
    "registration.SetMetric(metric)\n",
    "registration.SetOptimizer(optimizer)\n",
    "registration.SetFixedImage(fixed)\n",
    "registration.SetMovingImage(moving)\n",
    "registration.SetInitialTransform(initial_transform)"
   ]
  },
  {
   "cell_type": "code",
   "execution_count": 329,
   "id": "63a2a094-e748-4c25-8c99-1e3c3c83abec",
   "metadata": {},
   "outputs": [],
   "source": [
    "moving_initial_transform = TransformType.New()\n",
    "initial_parameters = moving_initial_transform.GetParameters()\n",
    "initial_parameters[3] = 0\n",
    "initial_parameters[4] = 0\n",
    "initial_parameters[5] = 0\n",
    "moving_initial_transform.SetParameters(initial_parameters)\n",
    "registration.SetMovingInitialTransform(moving_initial_transform)"
   ]
  },
  {
   "cell_type": "code",
   "execution_count": 330,
   "id": "c625cb81-13f2-448a-9a81-49aa4b104821",
   "metadata": {},
   "outputs": [],
   "source": [
    "fixed_parameters = moving_initial_transform.GetFixedParameters()\n",
    "fixed_parameters[0] = moving.GetLargestPossibleRegion().GetSize()[0] / 2.0\n",
    "fixed_parameters[1] = moving.GetLargestPossibleRegion().GetSize()[1] / 2.0\n",
    "fixed_parameters[2] = moving.GetLargestPossibleRegion().GetSize()[2] / 2.0\n",
    "moving_initial_transform.SetFixedParameters(fixed_parameters)"
   ]
  },
  {
   "cell_type": "code",
   "execution_count": 331,
   "id": "1f306aad-ff84-40df-89a0-58aea45395b6",
   "metadata": {},
   "outputs": [],
   "source": [
    "identity_transform = TransformType.New()\n",
    "identity_transform.SetIdentity()\n",
    "registration.SetFixedInitialTransform(identity_transform)\n",
    "registration.SetNumberOfLevels(1)"
   ]
  },
  {
   "cell_type": "code",
   "execution_count": 332,
   "id": "6586ffc7-ef05-4b4e-87db-0bdd6b6560c6",
   "metadata": {},
   "outputs": [],
   "source": [
    "registration.Update()"
   ]
  },
  {
   "cell_type": "code",
   "execution_count": 333,
   "id": "dc6de4fe-002d-4a41-b4db-4a7cadf1b114",
   "metadata": {},
   "outputs": [
    {
     "data": {
      "text/plain": [
       "1.7976931348623157e+308"
      ]
     },
     "execution_count": 333,
     "metadata": {},
     "output_type": "execute_result"
    }
   ],
   "source": [
    "transform = registration.GetTransform()\n",
    "final_parameters = transform.GetParameters()\n",
    "optimizer.GetValue()"
   ]
  },
  {
   "cell_type": "code",
   "execution_count": 334,
   "id": "e8527735-5981-4baf-abd8-3a0cda6935f9",
   "metadata": {},
   "outputs": [],
   "source": [
    "CompositeTransformType = itk.CompositeTransform[itk.D, dimension]\n",
    "output_composite_transform = CompositeTransformType.New()\n",
    "output_composite_transform.AddTransform(moving_initial_transform)\n",
    "output_composite_transform.AddTransform(registration.GetModifiableTransform())\n",
    "\n",
    "resampler = itk.ResampleImageFilter.New(Input=moving, Transform=transform, UseReferenceImage=True,\n",
    "                                            ReferenceImage=fixed)\n",
    "resampler.SetDefaultPixelValue(100)\n",
    "resampler.Update()\n",
    "resampling2 = resampler.GetOutput()"
   ]
  },
  {
   "cell_type": "code",
   "execution_count": 294,
   "id": "34f192cb-e171-4740-a9e6-4e10562d87d8",
   "metadata": {},
   "outputs": [
    {
     "data": {
      "text/plain": [
       "itk.itkImagePython.itkImageF3"
      ]
     },
     "execution_count": 294,
     "metadata": {},
     "output_type": "execute_result"
    }
   ],
   "source": [
    "subtraction3 = itk.SubtractImageFilter(Input1=fixed, Input2=resampler)\n",
    "type(subtraction3)"
   ]
  },
  {
   "cell_type": "markdown",
   "id": "b352036b-1005-4a0c-9858-2e71840cb178",
   "metadata": {},
   "source": [
    "## Partie Segmentation"
   ]
  },
  {
   "cell_type": "code",
   "execution_count": null,
   "id": "980d9fe7-b2c1-4211-8d3b-89610f60030c",
   "metadata": {},
   "outputs": [],
   "source": [
    "import sys\n",
    "import itk\n",
    "import os\n",
    "import matplotlib\n",
    "import matplotlib.pyplot as plt\n",
    "\n",
    "def segment_tumor(input_filepath, output_filepath, seed, lower, upper, image_nb=50):\n",
    "    # Read the input image\n",
    "    input_image = itk.imread(input_filepath, pixel_type=itk.F)\n",
    "\n",
    "    # Apply anisotropic diffusion filter for smoothing\n",
    "    smoother = itk.GradientAnisotropicDiffusionImageFilter.New(\n",
    "        Input=input_image, NumberOfIterations=20, TimeStep=0.04, ConductanceParameter=3)\n",
    "    smoother.Update()\n",
    "\n",
    "    # Display the smoothed image to choose a seed point\n",
    "    plt.ion()\n",
    "    plt.imshow(itk.GetArrayViewFromImage(smoother.GetOutput())[:, image_nb, :], cmap=\"gray\")\n",
    "    plt.title(\"Select seed point and press a key\")\n",
    "    plt.waitforbuttonpress()\n",
    "\n",
    "    # Instantiate the ConnectedThresholdImageFilter\n",
    "    connected_threshold = itk.ConnectedThresholdImageFilter.New(smoother.GetOutput())\n",
    "    connected_threshold.SetReplaceValue(255)\n",
    "    connected_threshold.SetLower(lower)\n",
    "    connected_threshold.SetUpper(upper)\n",
    "\n",
    "    # Set seed point for segmentation\n",
    "    new_seed = (seed[0], image_nb, seed[2])\n",
    "    connected_threshold.SetSeed(new_seed)\n",
    "    connected_threshold.Update()\n",
    "    # Rescale the intensity of the segmented output\n",
    "    in_type = itk.output(connected_threshold)\n",
    "    dimension = input_image.GetImageDimension()\n",
    "    output_type = itk.Image[itk.UC, dimension]\n",
    "    rescaler = itk.RescaleIntensityImageFilter[in_type, output_type].New(connected_threshold)\n",
    "    itk.imwrite(rescaler, output_filepath)\n",
    "\n",
    "    # Display the segmented output\n",
    "    plt.imshow(itk.GetArrayViewFromImage(connected_threshold.GetOutput())[:, image_nb, :], cmap=\"gray\")\n",
    "    plt.title(\"Segmented tumor\")\n",
    "    #plt.waitforbuttonpress()"
   ]
  },
  {
   "cell_type": "code",
   "execution_count": null,
   "id": "d5793b19-bcc4-4445-accf-c8806562d350",
   "metadata": {},
   "outputs": [],
   "source": [
    "matplotlib.use('TkAgg')\n",
    "\n",
    "# File paths\n",
    "scan1_filepath = \"Data/case6_gre1.nrrd\"\n",
    "scan2_filepath = \"Data/case6_gre2.nrrd\"\n",
    "output1_filepath = 'case6_gre1_segmented.nrrd'\n",
    "output2_filepath = 'case6_gre2_segmented.nrrd'\n",
    "\n",
    "# Segmentation parameters (example values)\n",
    "seed1 = (120, 105, 10)  # Adjust these coordinates for the first scan\n",
    "seed2 = (120, 105, 30)  # Adjust these coordinates for the second scan\n",
    "lower, upper = 20, 255\n",
    "\n",
    "# Segment tumors in both scans\n",
    "segment_tumor(scan1_filepath, output1_filepath, seed1, lower, upper)\n",
    "#segment_tumor(scan2_filepath, output2_filepath, seed2, lower, upper)"
   ]
  },
  {
   "cell_type": "markdown",
   "id": "036f964b-d027-408b-9f28-f45473db5fde",
   "metadata": {},
   "source": [
    "## Affichage de la tumeur ##"
   ]
  },
  {
   "cell_type": "code",
   "execution_count": 335,
   "id": "2ac91137-947d-4625-8026-473c0f77a7fe",
   "metadata": {},
   "outputs": [],
   "source": [
    "source = itk.vtk_image_from_image(resampling2)\n",
    "source2 = itk.vtk_image_from_image(resampling1)"
   ]
  },
  {
   "cell_type": "code",
   "execution_count": 336,
   "id": "3ab5342b-0cf7-4121-a35c-17e734737dbf",
   "metadata": {},
   "outputs": [],
   "source": [
    "renderWindow = vtk.vtkRenderWindow()\n",
    "renderer = vtk.vtkRenderer()"
   ]
  },
  {
   "cell_type": "code",
   "execution_count": 337,
   "id": "26a8aaf1-c259-48bc-8dd8-1c5efc08028d",
   "metadata": {},
   "outputs": [],
   "source": [
    "renderWindow.AddRenderer(renderer)\n",
    "renderWindowInteractor = vtk.vtkRenderWindowInteractor()\n",
    "renderWindowInteractor.SetInteractorStyle(vtk.vtkInteractorStyleTrackballCamera())\n",
    "renderWindow.SetInteractor(renderWindowInteractor)"
   ]
  },
  {
   "cell_type": "code",
   "execution_count": 338,
   "id": "b9646016-6b32-4a32-9dde-292004076e73",
   "metadata": {},
   "outputs": [],
   "source": [
    "# Create a vtk.vtkContourFilter to do the isocontouring\n",
    "# Set the input to the output of the reader\n",
    "# Set the value to 135\n",
    "contour = vtk.vtkContourFilter()\n",
    "contour.SetInputData(source)\n",
    "contour.SetValue(0, 135)\n",
    "\n",
    "# This is the vtk.vtkPolyDataMapper\n",
    "contourMapper = vtk.vtkPolyDataMapper()\n",
    "\n",
    "# Connect the mapper to the contour filter\n",
    "# Remember to turn ScalarVisibilityOff()\n",
    "contourMapper.SetInputConnection(contour.GetOutputPort())\n",
    "contourMapper.ScalarVisibilityOff()\n",
    "\n",
    "# This is the vtk.vtkActor\n",
    "contourActor = vtk.vtkActor()\n",
    "\n",
    "# Set the mapper\n",
    "contourActor.SetMapper(contourMapper)\n",
    "\n",
    "# Add the actor\n",
    "renderer.AddActor(contourActor)"
   ]
  },
  {
   "cell_type": "code",
   "execution_count": 262,
   "id": "85f2c828-ebe2-47d7-a7df-37818fd08ea3",
   "metadata": {},
   "outputs": [],
   "source": [
    "# Create a vtk.vtkContourFilter to do the isocontouring\n",
    "# Set the input to the output of the reader\n",
    "# Set the value to 135\n",
    "contour2 = vtk.vtkContourFilter()\n",
    "contour2.SetInputData(source2)\n",
    "contour2.SetValue(0, 135)\n",
    "\n",
    "# This is the vtk.vtkPolyDataMapper\n",
    "contourMapper2 = vtk.vtkPolyDataMapper()\n",
    "\n",
    "# Connect the mapper to the contour filter\n",
    "# Remember to turn ScalarVisibilityOff()\n",
    "contourMapper2.SetInputConnection(contour2.GetOutputPort())\n",
    "contourMapper2.ScalarVisibilityOff()\n",
    "\n",
    "# This is the vtk.vtkActor\n",
    "contourActor2 = vtk.vtkActor()\n",
    "\n",
    "# Set the mapper\n",
    "contourActor2.SetMapper(contourMapper2)\n",
    "\n",
    "# Add the actor\n",
    "renderer.AddActor(contourActor2)"
   ]
  },
  {
   "cell_type": "code",
   "execution_count": 339,
   "id": "ceb85710-7ca3-4ad3-8be4-787ac6f61a66",
   "metadata": {},
   "outputs": [],
   "source": [
    "# Create an opacity transfer function to map\n",
    "# scalar value to opacity\n",
    "opacityFun = vtk.vtkPiecewiseFunction()\n",
    "\n",
    "# Set a mapping going from 0.0 opacity at 90, up to 0.2 at 100,\n",
    "# and back down to 0.0 at 120.\n",
    "opacityFun.AddPoint(0.0, 0.0)\n",
    "opacityFun.AddPoint(90.0, 0.0)\n",
    "opacityFun.AddPoint(100.0, 0.2)\n",
    "opacityFun.AddPoint(120.0, 0.0)\n",
    "\n",
    "# Create a color transfer function for the mapping of scalar\n",
    "# value into color\n",
    "colorFun = vtk.vtkColorTransferFunction()\n",
    "\n",
    "# Set the color to a constant value, you might\n",
    "# want to try (0.8, 0.4, 0.2)\n",
    "colorFun.AddRGBPoint(0.0, .8, .4, .2)\n",
    "colorFun.AddRGBPoint(255.0, .8, .4, .2)\n",
    "\n",
    "# Create a volume property\n",
    "# Set the opacity and color. Change interpolation\n",
    "# to linear for a more pleasing image\n",
    "property = vtk.vtkVolumeProperty()\n",
    "property.SetScalarOpacity(opacityFun)\n",
    "property.SetColor(colorFun)\n",
    "property.SetInterpolationTypeToLinear()"
   ]
  },
  {
   "cell_type": "code",
   "execution_count": 340,
   "id": "69655207-50cc-4df4-a3ac-fbb84ec5f66b",
   "metadata": {},
   "outputs": [],
   "source": [
    "# Create the volume mapper\n",
    "mapper = vtk.vtkSmartVolumeMapper()\n",
    "\n",
    "# Set the input to the output of the reader\n",
    "mapper.SetInputData(source)\n",
    "\n",
    "# Create the volume\n",
    "volume = vtk.vtkVolume()\n",
    "\n",
    "# Set the property and the mapper\n",
    "#volume.SetProperty(property)\n",
    "volume.SetMapper(mapper)\n",
    "\n",
    "# Add the volume to the renderer\n",
    "renderer.AddVolume(volume)\n",
    "\n",
    "# Render and start the interactor\n",
    "renderWindow.Render()\n",
    "renderWindowInteractor.Start()"
   ]
  },
  {
   "cell_type": "code",
   "execution_count": null,
   "id": "f2c3afb8-773e-4316-b920-d1a1f5fe0192",
   "metadata": {},
   "outputs": [],
   "source": []
  }
 ],
 "metadata": {
  "kernelspec": {
   "display_name": "Python 3 (ipykernel)",
   "language": "python",
   "name": "python3"
  },
  "language_info": {
   "codemirror_mode": {
    "name": "ipython",
    "version": 3
   },
   "file_extension": ".py",
   "mimetype": "text/x-python",
   "name": "python",
   "nbconvert_exporter": "python",
   "pygments_lexer": "ipython3",
   "version": "3.9.0"
  }
 },
 "nbformat": 4,
 "nbformat_minor": 5
}
