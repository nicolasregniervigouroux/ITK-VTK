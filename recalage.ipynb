{
 "cells": [
  {
   "cell_type": "code",
   "execution_count": 9,
   "id": "8027132f-3e22-4a68-95c0-196c5cea5217",
   "metadata": {},
   "outputs": [],
   "source": [
    "import itk\n",
    "import numpy as np\n",
    "import matplotlib\n",
    "import matplotlib.pyplot as plt\n",
    "PixelType = itk.F # shorthand: itk.UC"
   ]
  },
  {
   "cell_type": "markdown",
   "id": "06e24abf-08b4-4f7d-aeca-5fdd0ca2423b",
   "metadata": {},
   "source": [
    "## Import data ##"
   ]
  },
  {
   "cell_type": "code",
   "execution_count": 65,
   "id": "2f9a3c6e-f135-4bca-acaf-a424e46cd3ef",
   "metadata": {},
   "outputs": [],
   "source": [
    "fixed = itk.imread(\"Data/case6_gre1.nrrd\",PixelType)"
   ]
  },
  {
   "cell_type": "code",
   "execution_count": 66,
   "id": "af1f1815-dc03-450a-9171-ed878aea5b75",
   "metadata": {},
   "outputs": [],
   "source": [
    "moving= itk.imread(\"Data/case6_gre2.nrrd\",PixelType)"
   ]
  },
  {
   "cell_type": "code",
   "execution_count": 67,
   "id": "7d5026a5-d765-4ab1-b1fe-82964ce02f97",
   "metadata": {},
   "outputs": [
    {
     "data": {
      "text/plain": [
       "itk.itkImagePython.itkImageF3"
      ]
     },
     "execution_count": 67,
     "metadata": {},
     "output_type": "execute_result"
    }
   ],
   "source": [
    "dimension = fixed.GetImageDimension()\n",
    "FixedImageType = type(fixed)\n",
    "MovingImageType = type(fixed)\n",
    "MovingImageType"
   ]
  },
  {
   "cell_type": "code",
   "execution_count": 68,
   "id": "b09a58dc-cb1f-4080-9320-635172af9bd8",
   "metadata": {},
   "outputs": [],
   "source": [
    "TransformType = itk.TranslationTransform[itk.D,dimension]\n",
    "initial_transform = TransformType.New()"
   ]
  },
  {
   "cell_type": "code",
   "execution_count": 70,
   "id": "739ee584-b63f-4eff-a238-d2b300928f5f",
   "metadata": {},
   "outputs": [],
   "source": [
    "optimizer = itk.RegularStepGradientDescentOptimizerv4.New()\n",
    "optimizer.SetLearningRate(4.0)\n",
    "optimizer.SetMinimumStepLength(0.001)\n",
    "optimizer.SetNumberOfIterations(10)"
   ]
  },
  {
   "cell_type": "code",
   "execution_count": 71,
   "id": "68b6f8f6-19b0-415c-b2be-26cfef654b02",
   "metadata": {},
   "outputs": [],
   "source": [
    "metric = itk.MeanSquaresImageToImageMetricv4[FixedImageType, MovingImageType].New()"
   ]
  },
  {
   "cell_type": "code",
   "execution_count": 72,
   "id": "b70d5ff4-b842-4504-9524-99db5de84146",
   "metadata": {},
   "outputs": [],
   "source": [
    "fixed_interpolation = itk.LinearInterpolateImageFunction[FixedImageType, itk.D].New()\n",
    "metric.SetFixedInterpolator(fixed_interpolation)"
   ]
  },
  {
   "cell_type": "code",
   "execution_count": 73,
   "id": "dd765bae-dfe0-4608-9ced-be8356628b1e",
   "metadata": {},
   "outputs": [],
   "source": [
    "registration = itk.ImageRegistrationMethodv4[FixedImageType, MovingImageType].New()\n",
    "registration.SetMetric(metric)\n",
    "registration.SetOptimizer(optimizer)\n",
    "registration.SetFixedImage(fixed)\n",
    "registration.SetMovingImage(moving)\n",
    "registration.SetInitialTransform(initial_transform)"
   ]
  },
  {
   "cell_type": "code",
   "execution_count": 74,
   "id": "ed96db6f-a385-4ba8-8d14-91b5da267b83",
   "metadata": {},
   "outputs": [],
   "source": [
    "moving_initial_transform = TransformType.New()\n",
    "initial_parameters = moving_initial_transform.GetParameters()\n",
    "initial_parameters[0] = 0\n",
    "initial_parameters[1] = 0\n",
    "moving_initial_transform.SetParameters(initial_parameters)\n",
    "registration.SetMovingInitialTransform(moving_initial_transform)"
   ]
  },
  {
   "cell_type": "code",
   "execution_count": 75,
   "id": "922e7ee6-d2b4-4f6f-9f3e-a7c419d9024b",
   "metadata": {},
   "outputs": [],
   "source": [
    "identity_transform = TransformType.New()\n",
    "identity_transform.SetIdentity()\n",
    "registration.SetFixedInitialTransform(identity_transform)\n",
    "\n",
    "registration.SetNumberOfLevels(1)"
   ]
  },
  {
   "cell_type": "code",
   "execution_count": 76,
   "id": "98fc52ab-bbcb-4f4e-be31-d45fba3a5c1f",
   "metadata": {},
   "outputs": [],
   "source": [
    "registration.Update()"
   ]
  },
  {
   "cell_type": "code",
   "execution_count": 77,
   "id": "20ac20f5-81be-4479-848d-2b82c6c985ea",
   "metadata": {},
   "outputs": [
    {
     "name": "stdout",
     "output_type": "stream",
     "text": [
      "Translation X: -0.02322083939182773\n",
      "Translation Y: -6.70791941471933\n",
      "Translation Z: -38.00334177337564\n"
     ]
    },
    {
     "data": {
      "text/plain": [
       "30881.19912346788"
      ]
     },
     "execution_count": 77,
     "metadata": {},
     "output_type": "execute_result"
    }
   ],
   "source": [
    "transform = registration.GetTransform()\n",
    "final_parameters = transform.GetParameters()\n",
    "print(\"Translation X: \" +str(final_parameters.GetElement(0)))\n",
    "print(\"Translation Y: \" +str(final_parameters.GetElement(1)))\n",
    "print(\"Translation Z: \" +str(final_parameters.GetElement(2)))\n",
    "optimizer.GetValue()"
   ]
  },
  {
   "cell_type": "code",
   "execution_count": 80,
   "id": "8bc4d717-2c31-4248-91aa-366d786ab764",
   "metadata": {},
   "outputs": [],
   "source": [
    "CompositeTransformType = itk.CompositeTransform[itk.D, dimension]\n",
    "output_composite_transform = CompositeTransformType.New()\n",
    "output_composite_transform.AddTransform(moving_initial_transform)\n",
    "output_composite_transform.AddTransform(registration.GetModifiableTransform())\n",
    "\n",
    "resampler = itk.ResampleImageFilter.New(Input=moving, Transform=transform, UseReferenceImage=True,\n",
    "                                            ReferenceImage=fixed)\n",
    "resampler.SetDefaultPixelValue(100)"
   ]
  },
  {
   "cell_type": "markdown",
   "id": "f9f2a0ce-d21a-4daa-aa5a-1633d24308c5",
   "metadata": {},
   "source": [
    "### Partie Segmentation"
   ]
  },
  {
   "cell_type": "code",
   "execution_count": 33,
   "id": "29e6c706-7309-41c3-bd6b-b556f7f03b4e",
   "metadata": {},
   "outputs": [],
   "source": [
    "import sys\n",
    "import itk\n",
    "import os\n",
    "import matplotlib\n",
    "import matplotlib.pyplot as plt\n",
    "\n",
    "def segment_tumor(input_filepath, output_filepath, seed, lower, upper, image_nb=50):\n",
    "    # Read the input image\n",
    "    input_image = itk.imread(input_filepath, pixel_type=itk.F)\n",
    "\n",
    "    # Apply anisotropic diffusion filter for smoothing\n",
    "    smoother = itk.GradientAnisotropicDiffusionImageFilter.New(\n",
    "        Input=input_image, NumberOfIterations=20, TimeStep=0.04, ConductanceParameter=3)\n",
    "    smoother.Update()\n",
    "\n",
    "    # Display the smoothed image to choose a seed point\n",
    "    plt.ion()\n",
    "    plt.imshow(itk.GetArrayViewFromImage(smoother.GetOutput())[:, image_nb, :], cmap=\"gray\")\n",
    "    plt.title(\"Select seed point and press a key\")\n",
    "    plt.waitforbuttonpress()\n",
    "\n",
    "    # Instantiate the ConnectedThresholdImageFilter\n",
    "    connected_threshold = itk.ConnectedThresholdImageFilter.New(smoother.GetOutput())\n",
    "    connected_threshold.SetReplaceValue(255)\n",
    "    connected_threshold.SetLower(lower)\n",
    "    connected_threshold.SetUpper(upper)\n",
    "\n",
    "    # Set seed point for segmentation\n",
    "    new_seed = (seed[0], image_nb, seed[2])\n",
    "    connected_threshold.SetSeed(new_seed)\n",
    "    connected_threshold.Update()\n",
    "    # Rescale the intensity of the segmented output\n",
    "    in_type = itk.output(connected_threshold)\n",
    "    dimension = input_image.GetImageDimension()\n",
    "    output_type = itk.Image[itk.UC, dimension]\n",
    "    rescaler = itk.RescaleIntensityImageFilter[in_type, output_type].New(connected_threshold)\n",
    "    itk.imwrite(rescaler, output_filepath)\n",
    "\n",
    "    # Display the segmented output\n",
    "    plt.imshow(itk.GetArrayViewFromImage(connected_threshold.GetOutput())[:, image_nb, :], cmap=\"gray\")\n",
    "    plt.title(\"Segmented tumor\")\n",
    "    #plt.waitforbuttonpress()"
   ]
  },
  {
   "cell_type": "code",
   "execution_count": 40,
   "id": "e37e267b-c231-41e2-a046-c91665d83102",
   "metadata": {},
   "outputs": [],
   "source": [
    "matplotlib.use('TkAgg')\n",
    "\n",
    "# File paths\n",
    "scan1_filepath = \"Data/case6_gre1.nrrd\"\n",
    "scan2_filepath = \"Data/case6_gre2.nrrd\"\n",
    "output1_filepath = 'case6_gre1_segmented.nrrd'\n",
    "output2_filepath = 'case6_gre2_segmented.nrrd'\n",
    "\n",
    "# Segmentation parameters (example values)\n",
    "seed1 = (120, 105, 10)  # Adjust these coordinates for the first scan\n",
    "seed2 = (120, 105, 30)  # Adjust these coordinates for the second scan\n",
    "lower, upper = 20, 255\n",
    "\n",
    "# Segment tumors in both scans\n",
    "segment_tumor(scan1_filepath, output1_filepath, seed1, lower, upper)\n",
    "#segment_tumor(scan2_filepath, output2_filepath, seed2, lower, upper)"
   ]
  },
  {
   "cell_type": "code",
   "execution_count": null,
   "id": "47c49e63-6218-4388-83ff-68e405c6842e",
   "metadata": {},
   "outputs": [],
   "source": []
  }
 ],
 "metadata": {
  "kernelspec": {
   "display_name": "Python 3 (ipykernel)",
   "language": "python",
   "name": "python3"
  },
  "language_info": {
   "codemirror_mode": {
    "name": "ipython",
    "version": 3
   },
   "file_extension": ".py",
   "mimetype": "text/x-python",
   "name": "python",
   "nbconvert_exporter": "python",
   "pygments_lexer": "ipython3",
   "version": "3.9.0"
  }
 },
 "nbformat": 4,
 "nbformat_minor": 5
}
